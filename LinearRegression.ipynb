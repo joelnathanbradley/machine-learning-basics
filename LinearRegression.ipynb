{
 "cells": [
  {
   "cell_type": "markdown",
   "metadata": {},
   "source": [
    "### __Linear Regression__"
   ]
  },
  {
   "cell_type": "code",
   "execution_count": 1,
   "metadata": {},
   "outputs": [],
   "source": [
    "import numpy as np\n",
    "from numpy.linalg import inv\n",
    "import matplotlib.pyplot as plt\n",
    "import pandas as pd"
   ]
  },
  {
   "cell_type": "code",
   "execution_count": 2,
   "metadata": {},
   "outputs": [],
   "source": [
    "volume_file = \"./data/PIOMAS.vol.daily.1979.2020.Current.v2.1.dat\""
   ]
  },
  {
   "cell_type": "markdown",
   "metadata": {},
   "source": [
    "__Load Data__"
   ]
  },
  {
   "cell_type": "code",
   "execution_count": 3,
   "metadata": {},
   "outputs": [],
   "source": [
    "# year_day_to_month_day() takes a year, and the day number of the year, and from it determines and returns the month \n",
    "# and day of month.\n",
    "def year_day_to_month_day(day_number, year):\n",
    "    # determine if leap year needs to be taken into account\n",
    "    leap_year = int(year % 4 == 0)\n",
    "    # determine from day number of year which month and day of month it is\n",
    "    if day_number <= 31:\n",
    "        month = 1\n",
    "        day = day_number\n",
    "    elif day_number <= 59 + leap_year:\n",
    "        month = 2\n",
    "        day = day_number - 31\n",
    "    elif day_number <= 90 + leap_year:\n",
    "        month = 3\n",
    "        day = day_number - 59 - leap_year\n",
    "    elif day_number <= 120 + leap_year:\n",
    "        month = 4\n",
    "        day = day_number - 90 - leap_year\n",
    "    elif day_number <= 151 + leap_year:\n",
    "        month = 5\n",
    "        day = day_number - 120 - leap_year\n",
    "    elif day_number <= 181 + leap_year:\n",
    "        month = 6\n",
    "        day = day_number - 151 - leap_year\n",
    "    elif day_number <= 212 + leap_year:\n",
    "        month = 7\n",
    "        day = day_number - 181 - leap_year\n",
    "    elif day_number <= 243 + leap_year:\n",
    "        month = 8\n",
    "        day = day_number - 212 - leap_year\n",
    "    elif day_number <= 273 + leap_year:\n",
    "        month = 9\n",
    "        day = day_number - 243 - leap_year\n",
    "    elif day_number <= 304 + leap_year:\n",
    "        month = 10\n",
    "        day = day_number - 273 - leap_year\n",
    "    elif day_number <= 334 + leap_year:\n",
    "        month = 11\n",
    "        day = day_number - 304 - leap_year\n",
    "    else:\n",
    "        month = 12\n",
    "        day = day_number - 334 - leap_year\n",
    "    return month, day\n",
    "\n",
    "# load_piomas_data() will take a dataset from PIOMAS, and format it to have a column each for year, month mapped onto\n",
    "# a unit circle, one for sin and one for cos, in addition to the measurement type recorded in the dataset\n",
    "def load_piomas_data(file):\n",
    "    # load in dataset and prepare for data manipulation\n",
    "    years = []\n",
    "    months_sin = []\n",
    "    months_cos = []\n",
    "    days = []\n",
    "    measurements = []\n",
    "    piomas_df = pd.read_csv(file)\n",
    "    piomas_df.columns = [\"Daily Data\"]\n",
    "    daily_data = list(piomas_df[\"Daily Data\"])\n",
    "    # for each data point, determine year, sin and cos of month mapped onto unit circle, and meausrement\n",
    "    for data_point in daily_data:\n",
    "        day_data = data_point.split()\n",
    "        year = int(day_data[0])\n",
    "        month, day = year_day_to_month_day(int(day_data[1]), year)\n",
    "        month_sin = np.sin((month - 1) * (2. * np.pi/12))\n",
    "        month_cos = np.cos((month - 1) * (2. * np.pi/12))\n",
    "        measurement = float(day_data[2])\n",
    "        years.append(year)\n",
    "        months_sin.append(month_sin)\n",
    "        months_cos.append(month_cos)\n",
    "        days.append(day)\n",
    "        measurements.append(measurement)\n",
    "    data = np.transpose([years, months_sin, months_cos, measurements])\n",
    "    return data\n",
    "\n",
    "# load volume data\n",
    "data = load_piomas_data(volume_file)"
   ]
  },
  {
   "cell_type": "markdown",
   "metadata": {},
   "source": [
    "__Data Preparation__"
   ]
  },
  {
   "cell_type": "code",
   "execution_count": 4,
   "metadata": {},
   "outputs": [],
   "source": [
    "# save feature maximums for later calculations\n",
    "data_maximums = data.max(axis=0)\n",
    "# normalize data for more robust linear regression fitting\n",
    "data = data / data_maximums\n",
    "# prepare X maxtrix with first column of ones for bias and rest of columns containing data features\n",
    "X = np.ones_like(data)\n",
    "X[:, 1:4] = data[:, 0:3]\n",
    "# prepare y matrix with data labels\n",
    "y = data[:, 3]"
   ]
  },
  {
   "cell_type": "markdown",
   "metadata": {},
   "source": [
    "__Normal Equation__"
   ]
  },
  {
   "cell_type": "code",
   "execution_count": 5,
   "metadata": {},
   "outputs": [
    {
     "name": "stdout",
     "output_type": "stream",
     "text": [
      "Theta computed for normal equation:  [ 18.96223064 -18.56710786   0.243309     0.0685225 ]\n",
      "Mean Square Error (MSE) for normal equation:  0.0032619146605360307\n"
     ]
    }
   ],
   "source": [
    "# normalEquation() will compute and bias and feature weights using the normal equation\n",
    "def normalEquation(X, y):\n",
    "    # theta = inverse(X^T.X).X^T.y\n",
    "    theta = np.transpose(X)\n",
    "    theta = theta.dot(X)\n",
    "    theta = inv(theta)\n",
    "    theta = theta.dot(np.transpose(X))\n",
    "    theta = theta.dot(y)\n",
    "    return theta\n",
    "\n",
    "# compute weights using normal equaion\n",
    "theta_normal_equation = normalEquation(X, y)\n",
    "# make predictions\n",
    "y_hat = X.dot(theta_normal_equation)\n",
    "# compute mean square error\n",
    "MSE_normal_equation = np.mean(np.square(y - y_hat))\n",
    "\n",
    "print(\"Theta computed for normal equation: \", theta_normal_equation)\n",
    "print(\"Mean Square Error (MSE) for normal equation: \", MSE_normal_equation)"
   ]
  },
  {
   "cell_type": "code",
   "execution_count": 6,
   "metadata": {},
   "outputs": [
    {
     "name": "stdout",
     "output_type": "stream",
     "text": [
      "The Arctic Sea Ice will disappear in the following years for a given month:\n",
      "\n",
      "Year: 2070, for Month: 1\n",
      "Year: 2082, for Month: 2\n",
      "Year: 2089, for Month: 3\n",
      "Year: 2089, for Month: 4\n",
      "Year: 2082, for Month: 5\n",
      "Year: 2069, for Month: 6\n",
      "Year: 2055, for Month: 7\n",
      "Year: 2043, for Month: 8\n",
      "Year: 2036, for Month: 9\n",
      "Year: 2036, for Month: 10\n",
      "Year: 2043, for Month: 11\n",
      "Year: 2056, for Month: 12\n"
     ]
    }
   ],
   "source": [
    "# predict_zero_ice() will compute what year a given month will have zero volume Arctic Sea Ice, given the linear\n",
    "# bias and weights within theta.  Since the data was normalized initially, the original data maximums are needed\n",
    "def predict_zero_ice(theta, data_maximums):\n",
    "    print(\"The Arctic Sea Ice will disappear in the following years for a given month:\\n\")\n",
    "    for month in range(1, 13):\n",
    "        month_sin = np.sin((month - 1) * (2. * np.pi/12)) * data_maximums[1]\n",
    "        month_cos = np.cos((month - 1) * (2. * np.pi/12)) * data_maximums[2]\n",
    "        year = ((-theta[0] - theta[2]*month_sin - theta[3]*month_cos) / theta[1]) * data_maximums[0]\n",
    "        print(\"Year: {}, for Month: {}\".format(int(year), month))\n",
    "\n",
    "# make zero ice predictions with the normal equation\n",
    "predict_zero_ice(theta_normal_equation, data_maximums)"
   ]
  },
  {
   "cell_type": "markdown",
   "metadata": {},
   "source": [
    "__Gradient Descent__"
   ]
  },
  {
   "cell_type": "code",
   "execution_count": 7,
   "metadata": {},
   "outputs": [],
   "source": [
    "# gradientDescent() will compute and bias and feature weights using gradient descent\n",
    "def gradientDescent(X, y, theta, alpha, epochs):\n",
    "    # set the number of data points to n\n",
    "    n = len(y)\n",
    "    for i in range(epochs):\n",
    "        # make predictions\n",
    "        y_hat = X.dot(theta)\n",
    "        # y_hat is negative, so model only works by subtracting observations from predictions, even though it should\n",
    "        # actually be predictions subtracted from observations\n",
    "        diff = y_hat - y\n",
    "        # compute the gradients\n",
    "        gradients = np.divide(np.transpose(diff).dot(X), n)\n",
    "        # update the current weights\n",
    "        theta = np.subtract(theta, np.multiply(alpha, gradients))\n",
    "    return theta"
   ]
  },
  {
   "cell_type": "code",
   "execution_count": 8,
   "metadata": {},
   "outputs": [
    {
     "name": "stdout",
     "output_type": "stream",
     "text": [
      "Theta computed for gradient descent:  [ 18.75056178 -18.35325508   0.24328079   0.06853002]\n",
      "Mean Square Error (MSE) for gradient descent:  0.003263536215514401\n"
     ]
    }
   ],
   "source": [
    "# set the learning rate, number of epochs, and randomly initialize weights\n",
    "learning_rate = 0.05\n",
    "epochs = 5000000\n",
    "theta = np.random.uniform(low=-2.0, high=2.0, size=(4,))\n",
    "\n",
    "# compute weights using gradient descent\n",
    "theta_gradient_descent = gradientDescent(X, y, theta, learning_rate, epochs)\n",
    "# make predictions\n",
    "y_hat = X.dot(theta_gradient_descent)\n",
    "# compute mean square error\n",
    "MSE_gradient_descent = np.mean(np.square(y - y_hat))\n",
    "\n",
    "print(\"Theta computed for gradient descent: \", theta_gradient_descent)\n",
    "print(\"Mean Square Error (MSE) for gradient descent: \", MSE_gradient_descent)"
   ]
  },
  {
   "cell_type": "code",
   "execution_count": 9,
   "metadata": {},
   "outputs": [
    {
     "name": "stdout",
     "output_type": "stream",
     "text": [
      "The Arctic Sea Ice will disappear in the following years for a given month:\n",
      "\n",
      "Year: 2071, for Month: 1\n",
      "Year: 2083, for Month: 2\n",
      "Year: 2090, for Month: 3\n",
      "Year: 2090, for Month: 4\n",
      "Year: 2083, for Month: 5\n",
      "Year: 2070, for Month: 6\n",
      "Year: 2056, for Month: 7\n",
      "Year: 2043, for Month: 8\n",
      "Year: 2036, for Month: 9\n",
      "Year: 2036, for Month: 10\n",
      "Year: 2044, for Month: 11\n",
      "Year: 2056, for Month: 12\n"
     ]
    }
   ],
   "source": [
    "# make zero ice predictions with the gradient descent\n",
    "predict_zero_ice(theta_gradient_descent, data_maximums)"
   ]
  },
  {
   "cell_type": "code",
   "execution_count": null,
   "metadata": {},
   "outputs": [],
   "source": []
  }
 ],
 "metadata": {
  "kernelspec": {
   "display_name": "Python 3",
   "language": "python",
   "name": "python3"
  },
  "language_info": {
   "codemirror_mode": {
    "name": "ipython",
    "version": 3
   },
   "file_extension": ".py",
   "mimetype": "text/x-python",
   "name": "python",
   "nbconvert_exporter": "python",
   "pygments_lexer": "ipython3",
   "version": "3.7.1"
  }
 },
 "nbformat": 4,
 "nbformat_minor": 4
}
