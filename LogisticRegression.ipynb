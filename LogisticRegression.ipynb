{
 "cells": [
  {
   "cell_type": "markdown",
   "metadata": {},
   "source": [
    "### Logistic Regression"
   ]
  },
  {
   "cell_type": "code",
   "execution_count": 1,
   "metadata": {},
   "outputs": [],
   "source": [
    "import numpy as np\n",
    "import matplotlib.pyplot as plt\n",
    "import math\n",
    "\n",
    "from skimage.io import imsave"
   ]
  },
  {
   "cell_type": "markdown",
   "metadata": {},
   "source": [
    "The data can be obtained from https://www.kaggle.com/ardamavi/sign-language-digits-dataset (preprocessed) or https://github.com/ardamavi/Sign-Language-Digits-Dataset (raw)."
   ]
  },
  {
   "cell_type": "markdown",
   "metadata": {},
   "source": [
    "__Load and Preprocess Data__"
   ]
  },
  {
   "cell_type": "code",
   "execution_count": 2,
   "metadata": {},
   "outputs": [
    {
     "name": "stdout",
     "output_type": "stream",
     "text": [
      "X_raw shape: (2062, 64, 64)\n",
      "y_raw shape: (2062, 10)\n",
      "X_data shape: (4096, 2062)\n",
      "y_data shape: (1, 2062)\n",
      "\n",
      "X_cat0 shape: (4096, 204)\n",
      "y_cat0 shape: (1, 204)\n",
      "X_cat1 shape: (4096, 206)\n",
      "y_cat1 shape: (1, 206)\n",
      "\n",
      "X_train shape (4096, 294)\n",
      "y_train shape (1, 294)\n",
      "X_test shape (4096, 116)\n",
      "y_test shape (1, 116)\n"
     ]
    }
   ],
   "source": [
    "# Load image data and preprocess\n",
    "X_raw = np.load(open('data/Sign-language-digits-dataset/X.npy', 'rb'))\n",
    "y_raw = np.load(open('data/Sign-language-digits-dataset/y.npy', 'rb'))\n",
    "print('X_raw shape: {}'.format(X_raw.shape))\n",
    "print('y_raw shape: {}'.format(y_raw.shape))\n",
    "\n",
    "# Flatten X_raw and transpose for later calculation\n",
    "X_data = X_raw.reshape(X_raw.shape[0], -1).T\n",
    "print('X_data shape: {}'.format(X_data.shape))\n",
    "\n",
    "# Transpose y_raw and convert from one-hot labels to integer labels\n",
    "y_data = y_raw.T\n",
    "y_data = np.argmax(y_data, axis=0).reshape((1, y_data.shape[1]))\n",
    "print('y_data shape: {}'.format(y_data.shape))\n",
    "\n",
    "# Choose the data of just two categories for binary logistic regresssion\n",
    "X_cat0 = X_data[:, np.where(y_data == 0)[1]]\n",
    "y_cat0 = y_data[:, np.where(y_data == 0)[1]]\n",
    "X_cat1 = X_data[:, np.where(y_data == 7)[1]]\n",
    "y_cat1 = y_data[:, np.where(y_data == 7)[1]]\n",
    "\n",
    "# Convert the labels of y_cat0 to 0, and y_cat1 to 1\n",
    "y_cat0 = np.zeros_like(y_cat0)\n",
    "y_cat1 = np.ones_like(y_cat1)\n",
    "\n",
    "print()\n",
    "print('X_cat0 shape: {}'.format(X_cat0.shape))\n",
    "print('y_cat0 shape: {}'.format(y_cat0.shape))\n",
    "print('X_cat1 shape: {}'.format(X_cat1.shape))\n",
    "print('y_cat1 shape: {}'.format(y_cat1.shape))\n",
    "\n",
    "# Select the first 72% from each category and combine them together for training data, and the rest for test data\n",
    "ind_cat0 = int(0.72 * X_cat0.shape[1])\n",
    "ind_cat1 = int(0.72 * X_cat1.shape[1])\n",
    "\n",
    "X_train = np.concatenate((X_cat0[:, :ind_cat0], X_cat1[:, :ind_cat1]), axis=1)\n",
    "y_train = np.concatenate((y_cat0[:, :ind_cat0], y_cat1[:, :ind_cat1]), axis=1)\n",
    "X_test = np.concatenate((X_cat0[:, ind_cat0:], X_cat1[:, ind_cat1:]), axis=1)\n",
    "y_test = np.concatenate((y_cat0[:, ind_cat0:], y_cat1[:, ind_cat1:]), axis=1)\n",
    "\n",
    "print()\n",
    "print('X_train shape {}'.format(X_train.shape))\n",
    "print('y_train shape {}'.format(y_train.shape))\n",
    "print('X_test shape {}'.format(X_test.shape))\n",
    "print('y_test shape {}'.format(y_test.shape))"
   ]
  },
  {
   "cell_type": "markdown",
   "metadata": {},
   "source": [
    "__Visualize__"
   ]
  },
  {
   "cell_type": "code",
   "execution_count": 3,
   "metadata": {
    "scrolled": true
   },
   "outputs": [
    {
     "data": {
      "image/png": "[encoded data removed]",
      "text/plain": [
       "<Figure size 576x576 with 2 Axes>"
      ]
     },
     "metadata": {
      "needs_background": "light"
     },
     "output_type": "display_data"
    }
   ],
   "source": [
    "# Visualize random point of data\n",
    "img_cat0 = X_cat0[:, 11].reshape((64,64))\n",
    "img_cat1 = X_cat1[:, 11].reshape((64,64))\n",
    "\n",
    "fig = plt.figure(figsize=(8, 8))\n",
    "fig.add_subplot(1, 2, 1)\n",
    "plt.imshow(img_cat0)\n",
    "fig.add_subplot(1, 2, 2)\n",
    "plt.imshow(img_cat1)\n",
    "plt.show()"
   ]
  },
  {
   "cell_type": "markdown",
   "metadata": {},
   "source": [
    "__Activation Function__"
   ]
  },
  {
   "cell_type": "code",
   "execution_count": 4,
   "metadata": {},
   "outputs": [],
   "source": [
    "# use sigmoid function as activation function for binary logistic regression\n",
    "def sigmoid(z):\n",
    "    a = 1/(1 + np.exp(-z))\n",
    "    return a"
   ]
  },
  {
   "cell_type": "markdown",
   "metadata": {},
   "source": [
    "__Gradient Descent__"
   ]
  },
  {
   "cell_type": "code",
   "execution_count": 5,
   "metadata": {},
   "outputs": [],
   "source": [
    "# gradient_descent() will compute feature weights and bias using gradient descent for binary logistic regression\n",
    "def gradient_descent(X, y, alpha=0.005, epochs=5000):\n",
    "    # initialize parameters\n",
    "    w = np.zeros((X.shape[0], 1))\n",
    "    b = 0.0\n",
    "    \n",
    "    # gradient descent\n",
    "    m = X.shape[1]\n",
    "    for epoch in range(epochs):\n",
    "        # compute activation, loss, and update gradients in backwards pass\n",
    "        a = sigmoid(w.T.dot(X) + b)\n",
    "        loss = -(1/m)*np.sum(y*np.log(a) + (1-y)*np.log(1-a))\n",
    "        dw = (1/m)*X.dot((a-y).T)\n",
    "        db = (1/m)*np.sum(a-y)\n",
    "        w = w - alpha*dw\n",
    "        b = b - alpha*db\n",
    "    return w, b, loss"
   ]
  },
  {
   "cell_type": "markdown",
   "metadata": {},
   "source": [
    "__Predictions__"
   ]
  },
  {
   "cell_type": "code",
   "execution_count": 6,
   "metadata": {},
   "outputs": [],
   "source": [
    "# predict() will predict if an image is in class 0 or class 1 given feature weights and bias\n",
    "def predict(X, w, b):\n",
    "    # initialize predictions\n",
    "    m = X.shape[1]\n",
    "    y_hat = np.zeros((1, m))\n",
    "    # make predictions\n",
    "    a = sigmoid(w.T.dot(X) + b)\n",
    "    # use 0.5 as cutoff to indicate which class an image most likely belongs to\n",
    "    for i in range(a.shape[1]):\n",
    "        y_hat[0, i] = a[0, i] > 0.5\n",
    "    return y_hat"
   ]
  },
  {
   "cell_type": "markdown",
   "metadata": {},
   "source": [
    "__Evaluation__"
   ]
  },
  {
   "cell_type": "code",
   "execution_count": 7,
   "metadata": {},
   "outputs": [
    {
     "name": "stdout",
     "output_type": "stream",
     "text": [
      "Training Accuracy: 99.31%\n",
      "Testing Accuracy: 97.41%\n",
      "Final Model Loss: 0.0478\n"
     ]
    }
   ],
   "source": [
    "# train logistic regression model\n",
    "alpha = 0.002\n",
    "epochs = 15000\n",
    "w, b, loss = gradient_descent(X_train, y_train, alpha, epochs)\n",
    "\n",
    "# test logistic regression model and compute accuracies\n",
    "y_hat_train = predict(X_train, w, b)\n",
    "y_hat_test = predict(X_test, w, b)\n",
    "train_accuracy = np.sum(y_hat_train == y_train) / y_train.shape[1]\n",
    "test_accuracy = np.sum(y_hat_test == y_test) / y_test.shape[1]\n",
    "\n",
    "# output results\n",
    "print('Training Accuracy: {}%'.format(math.floor(train_accuracy * 10000) / 100.0))\n",
    "print('Testing Accuracy: {}%'.format(math.floor(test_accuracy * 10000) / 100.0))\n",
    "print('Final Model Loss: {}'.format(math.floor(loss * 10000) / 10000.0))"
   ]
  },
  {
   "cell_type": "markdown",
   "metadata": {},
   "source": [
    "__Metrics__"
   ]
  },
  {
   "cell_type": "code",
   "execution_count": 8,
   "metadata": {},
   "outputs": [],
   "source": [
    "# Calculate true positive, false positive, true negative, false negative, accuracy, precision, recall, and F-1 score\n",
    "# Assume that label y = 1 is positive, and y = 0 is negative\n",
    "def calculate_metrics(y_test, y_hat_test):\n",
    "    true_positive = np.sum(np.logical_and(y_test == 1, y_hat_test == 1))\n",
    "    false_positive = np.sum(np.logical_and(y_test == 0, y_hat_test == 1))\n",
    "    true_negative = np.sum(np.logical_and(y_test == 0, y_hat_test == 0))\n",
    "    false_negative = np.sum(np.logical_and(y_test == 1, y_hat_test == 0))\n",
    "    accuracy = (true_positive + true_negative)/(true_positive + false_positive + true_negative + false_negative)\n",
    "    precision = true_positive/(true_positive + false_positive)\n",
    "    recall = true_positive/(true_positive + false_negative)\n",
    "    F1 = (2*precision*recall)/(precision + recall)\n",
    "    metrics = {\n",
    "        'TP': true_positive,\n",
    "        'FP': false_positive,\n",
    "        'TN': true_negative,\n",
    "        'FN': false_negative,\n",
    "        'Accuracy': accuracy,\n",
    "        'Precision': precision,\n",
    "        'Recall': recall,\n",
    "        'F1': F1\n",
    "    }\n",
    "    return metrics"
   ]
  },
  {
   "cell_type": "code",
   "execution_count": 9,
   "metadata": {},
   "outputs": [
    {
     "name": "stdout",
     "output_type": "stream",
     "text": [
      "True Positive = 55\n",
      "False Positive = 0\n",
      "True Negative = 58\n",
      "False Negative = 3\n",
      "Accuracy = 0.974\n",
      "Precision = 1.0\n",
      "Recall = 0.948\n",
      "F1 = 0.973\n"
     ]
    }
   ],
   "source": [
    "# calculate and output metrics for the trained model\n",
    "m = calculate_metrics(y_test, y_hat_test)\n",
    "print('True Positive = {}'.format(m['TP']))\n",
    "print('False Positive = {}'.format(m['FP']))\n",
    "print('True Negative = {}'.format(m['TN']))\n",
    "print('False Negative = {}'.format(m['FN']))\n",
    "print('Accuracy = {}'.format(math.floor(m['Accuracy'] * 1000) / 1000.0))\n",
    "print('Precision = {}'.format(math.floor(m['Precision'] * 1000) / 1000.0))\n",
    "print('Recall = {}'.format(math.floor(m['Recall'] * 1000) / 1000.0))\n",
    "print('F1 = {}'.format(math.floor(m['F1'] * 1000) / 1000.0))"
   ]
  },
  {
   "cell_type": "code",
   "execution_count": null,
   "metadata": {},
   "outputs": [],
   "source": []
  }
 ],
 "metadata": {
  "kernelspec": {
   "display_name": "Python 3",
   "language": "python",
   "name": "python3"
  },
  "language_info": {
   "codemirror_mode": {
    "name": "ipython",
    "version": 3
   },
   "file_extension": ".py",
   "mimetype": "text/x-python",
   "name": "python",
   "nbconvert_exporter": "python",
   "pygments_lexer": "ipython3",
   "version": "3.7.1"
  }
 },
 "nbformat": 4,
 "nbformat_minor": 2
}
